{
 "cells": [
  {
   "cell_type": "code",
   "execution_count": null,
   "metadata": {},
   "outputs": [],
   "source": [
    "import gymnasium as gym\n",
    "import torch\n",
    "import time\n",
    "from stable_baselines3 import PPO\n",
    "from stable_baselines3.common.env_util import make_atari_env\n",
    "from stable_baselines3.common.vec_env import VecFrameStack\n",
    "import ale_py\n",
    "gym.register_envs(ale_py)\n",
    "\n",
    "ENV_NAME = \"PongNoFrameskip-v4\"\n",
    "TOTAL_TIMESTEPS = 1_000_000\n",
    "MODEL_PATH = \"ppo_pong\"\n",
    "\n",
    "def train():\n",
    "    env = make_atari_env(ENV_NAME, n_envs=1, seed=0)\n",
    "    env = VecFrameStack(env, n_stack=4)\n",
    "\n",
    "    model = PPO(\"CnnPolicy\", env, verbose=1)\n",
    "    model = PPO.load(MODEL_PATH, env=env)\n",
    "    model.learn(total_timesteps=TOTAL_TIMESTEPS)\n",
    "    model.save(MODEL_PATH)\n",
    "    env.close()\n",
    "\n",
    "def play():\n",
    "    model = PPO.load(MODEL_PATH)\n",
    "    env = make_atari_env(ENV_NAME, n_envs=1, seed=0)\n",
    "    env = VecFrameStack(env, n_stack=4)\n",
    "    # vis_env = make_atari_env(ENV_NAME, n_envs=1, seed=0)\n",
    "    obs = env.reset()\n",
    "    env.render(\"human\")\n",
    "    done = False\n",
    "\n",
    "    while True:\n",
    "        action, _states = model.predict(obs, deterministic=False)\n",
    "        obs, rewards, dones, info = env.step(action)\n",
    "        env.render(\"human\")\n",
    "        time.sleep(0.01)\n",
    "            \n",
    "    env.close()"
   ]
  },
  {
   "cell_type": "code",
   "execution_count": null,
   "metadata": {},
   "outputs": [],
   "source": [
    "train()"
   ]
  },
  {
   "cell_type": "code",
   "execution_count": null,
   "metadata": {},
   "outputs": [],
   "source": [
    "from stable_baselines3.common.env_util import make_atari_env\n",
    "from stable_baselines3.common.vec_env import VecFrameStack\n",
    "from stable_baselines3 import A2C\n",
    "\n",
    "import ale_py\n",
    "\n",
    "# There already exists an environment generator\n",
    "# that will make and wrap atari environments correctly.\n",
    "# Here we are also multi-worker training (n_envs=4 => 4 environments)\n",
    "vec_env = make_atari_env(\"PongNoFrameskip-v4\", n_envs=4, seed=0)\n",
    "# Frame-stacking with 4 frames\n",
    "vec_env = VecFrameStack(vec_env, n_stack=4)\n",
    "\n",
    "model = A2C(\"CnnPolicy\", vec_env, verbose=1)\n",
    "model.learn(total_timesteps=1)"
   ]
  },
  {
   "cell_type": "code",
   "execution_count": null,
   "metadata": {},
   "outputs": [],
   "source": [
    "obs = vec_env.reset()\n",
    "while True:\n",
    "    action, _states = model.predict(obs, deterministic=False)\n",
    "    obs, rewards, dones, info = vec_env.step(action)\n",
    "    vec_env.render(\"human\")\n",
    "    time.sleep(0.05)"
   ]
  }
 ],
 "metadata": {
  "kernelspec": {
   "display_name": "venv",
   "language": "python",
   "name": "python3"
  },
  "language_info": {
   "codemirror_mode": {
    "name": "ipython",
    "version": 3
   },
   "file_extension": ".py",
   "mimetype": "text/x-python",
   "name": "python",
   "nbconvert_exporter": "python",
   "pygments_lexer": "ipython3",
   "version": "3.12.3"
  }
 },
 "nbformat": 4,
 "nbformat_minor": 2
}
